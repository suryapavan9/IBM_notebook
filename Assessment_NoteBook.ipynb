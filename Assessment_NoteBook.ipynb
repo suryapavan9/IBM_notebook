{
    "cells": [
        {
            "metadata": {
                "collapsed": true
            },
            "cell_type": "markdown",
            "source": "# My Jupyter Notebook on IBM Watson Studio"
        },
        {
            "metadata": {},
            "cell_type": "markdown",
            "source": "**Surya Pavan**"
        },
        {
            "metadata": {},
            "cell_type": "markdown",
            "source": "*I am interested in Data science*"
        },
        {
            "metadata": {},
            "cell_type": "markdown",
            "source": "### It will print the below output"
        },
        {
            "metadata": {},
            "cell_type": "code",
            "source": "print(\"Hello World\")\nprint(100+400)",
            "execution_count": 2,
            "outputs": [
                {
                    "output_type": "stream",
                    "text": "Hello World\n500\n",
                    "name": "stdout"
                }
            ]
        },
        {
            "metadata": {},
            "cell_type": "markdown",
            "source": "***\nHere is Some Important Text\n***\n\n* This is a Bullet List\n* Doing\n* Keep up the work\n\nOur program website can be found at <a href=\"http://google.com\" target=\"_blank\">this link</a>"
        }
    ],
    "metadata": {
        "kernelspec": {
            "name": "python3",
            "display_name": "Python 3.7",
            "language": "python"
        },
        "language_info": {
            "name": "python",
            "version": "3.7.10",
            "mimetype": "text/x-python",
            "codemirror_mode": {
                "name": "ipython",
                "version": 3
            },
            "pygments_lexer": "ipython3",
            "nbconvert_exporter": "python",
            "file_extension": ".py"
        }
    },
    "nbformat": 4,
    "nbformat_minor": 1
}